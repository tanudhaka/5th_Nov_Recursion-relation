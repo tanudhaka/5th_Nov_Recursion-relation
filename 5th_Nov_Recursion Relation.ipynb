{
 "cells": [
  {
   "cell_type": "code",
   "execution_count": 1,
   "id": "a0018777-d25f-4266-adbb-00f8c692c25a",
   "metadata": {},
   "outputs": [],
   "source": [
    "# ques 1 Find the value of T(2) for the rec%rrence relation T(n) = 3T(n-1) + 12n, given that T(0)=5."
   ]
  },
  {
   "cell_type": "code",
   "execution_count": 1,
   "id": "ced9d251-f30e-4aba-b80a-2debc85357bb",
   "metadata": {},
   "outputs": [
    {
     "data": {
      "text/plain": [
       "'\\n            T(n)=3T(n-1)+12n--------->eqn 1\\n            T(0)=5(given)\\n            T(1)=3T(1-1)+12*1(puttion n=1 in equation 1)\\n                =3T(0)+12\\n                =3*5+12\\n            T(1)=27\\n            \\n            T(2)=3T(2-1)+12*2\\n                =3T(1)+24\\n                =3*27+24\\n            T(2)=105\\n'"
      ]
     },
     "execution_count": 1,
     "metadata": {},
     "output_type": "execute_result"
    }
   ],
   "source": [
    "#solution 1------->\n",
    "'''\n",
    "            T(n)=3T(n-1)+12n--------->eqn 1\n",
    "            T(0)=5(given)\n",
    "            T(1)=3T(1-1)+12*1(puttion n=1 in equation 1)\n",
    "                =3T(0)+12\n",
    "                =3*5+12\n",
    "            T(1)=27\n",
    "            \n",
    "            T(2)=3T(2-1)+12*2\n",
    "                =3T(1)+24\n",
    "                =3*27+24\n",
    "            T(2)=105\n",
    "'''"
   ]
  },
  {
   "cell_type": "code",
   "execution_count": 1,
   "id": "8528f9f9-4546-4c16-b742-f13b85ad52af",
   "metadata": {},
   "outputs": [],
   "source": [
    "# ques 2. Given a rec%rrence relation, solve it %sing the s%bstit%tion method:\n",
    "#a. T(n) = T(n-1) + c\n",
    "#b. T(n) = 2T(n/2) + n\n",
    "#c. T(n) = 2T(n/2) + c\n",
    "#d. T(n) = T(n/2) + c"
   ]
  },
  {
   "cell_type": "code",
   "execution_count": 2,
   "id": "44696e2c-e03a-4b99-a737-69a046e6ce26",
   "metadata": {},
   "outputs": [
    {
     "data": {
      "text/plain": [
       "'  T(n) = T(n-1) + c ------eqn 1\\n      T(n-1)=T(n-2)+c   ------eqn 2\\n      T(n-2)=T(n-3)+c   ------eqn 3\\n       put eqn 2 in eq 1\\n      T(n)=T(n-2)+2c -------eqn 4\\n       put eqn 3 in eqn 4\\n      T(n)=T(n-3)+3c\\n           |\\n           |\\n           k times\\n           T(n-k)+k*c\\n           put n-k=1\\n               k=n-1\\n        T(1)+(n-1)*c\\n        1+(n-1)*c\\n        \\n        \\n        o(n)\\n            answer...o(n)\\n\\n'"
      ]
     },
     "execution_count": 2,
     "metadata": {},
     "output_type": "execute_result"
    }
   ],
   "source": [
    "# solution 2(a)    T(n) = T(n-1) + c\n",
    "'''  T(n) = T(n-1) + c ------eqn 1\n",
    "      T(n-1)=T(n-2)+c   ------eqn 2\n",
    "      T(n-2)=T(n-3)+c   ------eqn 3\n",
    "       put eqn 2 in eq 1\n",
    "      T(n)=T(n-2)+2c -------eqn 4\n",
    "       put eqn 3 in eqn 4\n",
    "      T(n)=T(n-3)+3c\n",
    "           |\n",
    "           |\n",
    "           k times\n",
    "           T(n-k)+k*c\n",
    "           put n-k=1\n",
    "               k=n-1\n",
    "        T(1)+(n-1)*c\n",
    "        1+(n-1)*c\n",
    "        \n",
    "        \n",
    "        o(n)\n",
    "            answer...o(n)\n",
    "\n",
    "'''"
   ]
  },
  {
   "cell_type": "code",
   "execution_count": 6,
   "id": "5792724b-8321-4c3b-90ee-9d00b968f1e2",
   "metadata": {},
   "outputs": [
    {
     "data": {
      "text/plain": [
       "'    T(n) = 2T(n/2) + n     -----eqn 1\\n    T(n) = 2T(n/2^2)+n/2   ---eqn 2\\n    T(n) = 2T(n/2^3)+n/2^2 ---eqn 3\\n    put eqn 2 in eqn 1\\n    T(n)= 2^2T(n/2^2)+2n  ----eqn 4\\n    put eqn 3 in eqn 4\\n    T(n)= 2^3*T(n/2^3)+3n\\n            |\\n            |\\n            k times\\n        =2^k*T(n/2^k)+k*n\\n               put n/2^k=1\\n                   n=2^k\\n                logn=k\\n        =n*T(1)+logn * n\\n        n*1+n*logn\\n        \\n        \\n        answer....  o(nlogn)\\n'"
      ]
     },
     "execution_count": 6,
     "metadata": {},
     "output_type": "execute_result"
    }
   ],
   "source": [
    "# solution 2(b)  T(n) = 2T(n/2) + n \n",
    "'''    T(n) = 2T(n/2) + n     -----eqn 1\n",
    "    T(n) = 2T(n/2^2)+n/2   ---eqn 2\n",
    "    T(n) = 2T(n/2^3)+n/2^2 ---eqn 3\n",
    "    put eqn 2 in eqn 1\n",
    "    T(n)= 2^2T(n/2^2)+2n  ----eqn 4\n",
    "    put eqn 3 in eqn 4\n",
    "    T(n)= 2^3*T(n/2^3)+3n\n",
    "            |\n",
    "            |\n",
    "            k times\n",
    "        =2^k*T(n/2^k)+k*n\n",
    "               put n/2^k=1\n",
    "                   n=2^k\n",
    "                logn=k\n",
    "        =n*T(1)+logn * n\n",
    "        n*1+n*logn\n",
    "        \n",
    "        \n",
    "        answer....  o(nlogn)\n",
    "'''\n",
    "   "
   ]
  },
  {
   "cell_type": "code",
   "execution_count": 7,
   "id": "cc9a8f30-02d7-4da4-bad8-f7f527f2cbf6",
   "metadata": {},
   "outputs": [
    {
     "data": {
      "text/plain": [
       "'     T(n) = 2T(n/2) + c   ----------eqn 1\\n     T(n/2) = 2T(n/2^2) + c --------eqn 2\\n     T(n/2^2) =2T(n/2^3) +c --------eqn 3\\n         put eqn 2 in eqn 1\\n     T(n) = 2^2 *T(n/2^2) + 2c +c ---eqn 4\\n         put eqn 3 in eqn 4\\n     T(n) = 2^3 *T(n/2^3)+2^2*c+2*c+c\\n                 |\\n                 |\\n                k times\\n         = 2^k *T(n/2^k) + 2^(k-1)*c+2^(k-2)*c+----+2^0*c\\n         = 2^k *T(n/2^k) + 2^k * c [1/2 + 1/2^2 + 1/2^3 + ----]\\n                put n/2^k=1\\n                    n=2^k\\n                    logn=k\\n         = n*T(1)+n*c*2\\n        \\n        \\n        \\n        answer....... o(n)\\n'"
      ]
     },
     "execution_count": 7,
     "metadata": {},
     "output_type": "execute_result"
    }
   ],
   "source": [
    "# solution 2(c)  T(n) = 2T(n/2) + c \n",
    "\n",
    "'''     T(n) = 2T(n/2) + c   ----------eqn 1\n",
    "     T(n/2) = 2T(n/2^2) + c --------eqn 2\n",
    "     T(n/2^2) =2T(n/2^3) +c --------eqn 3\n",
    "         put eqn 2 in eqn 1\n",
    "     T(n) = 2^2 *T(n/2^2) + 2c +c ---eqn 4\n",
    "         put eqn 3 in eqn 4\n",
    "     T(n) = 2^3 *T(n/2^3)+2^2*c+2*c+c\n",
    "                 |\n",
    "                 |\n",
    "                k times\n",
    "         = 2^k *T(n/2^k) + 2^(k-1)*c+2^(k-2)*c+----+2^0*c\n",
    "         = 2^k *T(n/2^k) + 2^k * c [1/2 + 1/2^2 + 1/2^3 + ----]\n",
    "                put n/2^k=1\n",
    "                    n=2^k\n",
    "                    logn=k\n",
    "         = n*T(1)+n*c*2\n",
    "        \n",
    "        \n",
    "        \n",
    "        answer....... o(n)\n",
    "'''    \n",
    "    \n",
    "    "
   ]
  },
  {
   "cell_type": "code",
   "execution_count": 8,
   "id": "2a497914-6337-4165-b73d-b47ad96b6226",
   "metadata": {},
   "outputs": [
    {
     "data": {
      "text/plain": [
       "'    \\n               T(n) = T(n/2) + c ---------eqn 1\\n               T(n/2)= T(n/2^2) + c ------eqn 2\\n               T(n/4)= T(n/2^3) + c ------eqn 3\\n                     put eqn 2 in eqn 1\\n               T(n) = T(n/2^2)+2c\\n                    put eqn 3 in eqn 4\\n                T(n) = T(n/2^3) + 3c\\n                          |\\n                          |\\n                        k times\\n                      = (n/2^k) + kc\\n                          \\n                        n/2^k=1\\n                        k = logn\\n                        \\n                T(n) = T(1) + logn*c\\n                     = 1+ logn * c\\n                    \\n                    \\n                    \\n                    answer....... o(logn)\\n'"
      ]
     },
     "execution_count": 8,
     "metadata": {},
     "output_type": "execute_result"
    }
   ],
   "source": [
    "# solution 2(d) T(n) = T(n/2) + c\n",
    "     \n",
    "'''    \n",
    "               T(n) = T(n/2) + c ---------eqn 1\n",
    "               T(n/2)= T(n/2^2) + c ------eqn 2\n",
    "               T(n/4)= T(n/2^3) + c ------eqn 3\n",
    "                     put eqn 2 in eqn 1\n",
    "               T(n) = T(n/2^2)+2c\n",
    "                    put eqn 3 in eqn 4\n",
    "                T(n) = T(n/2^3) + 3c\n",
    "                          |\n",
    "                          |\n",
    "                        k times\n",
    "                      = (n/2^k) + kc\n",
    "                          \n",
    "                        n/2^k=1\n",
    "                        k = logn\n",
    "                        \n",
    "                T(n) = T(1) + logn*c\n",
    "                     = 1+ logn * c\n",
    "                    \n",
    "                    \n",
    "                    \n",
    "                    answer....... o(logn)\n",
    "'''"
   ]
  },
  {
   "cell_type": "code",
   "execution_count": 4,
   "id": "8e84cdb4-98c0-4952-b8e9-63e98a388347",
   "metadata": {},
   "outputs": [],
   "source": [
    "# ques 3  Given a rec%rrence relation, solve it %sing the rec%rsive tree approach:\n",
    "#a. T(n) = 2T(n-1) +1\n",
    "#b. T(n) = 2T(n/2) + n"
   ]
  },
  {
   "cell_type": "code",
   "execution_count": 5,
   "id": "b6dc02eb-3dc2-4624-a071-0d6ab1311b51",
   "metadata": {},
   "outputs": [
    {
     "data": {
      "text/plain": [
       "'           \\n                           n         --------1=2^0\\n                          /                          /                         n-1     n-1     -------2=2^1\\n                       / \\\\      /                      /   \\\\    /                      n-2    n-2 n-1 n-2  -----4=2^2\\n                    / \\\\     /                   /   \\\\   /  \\\\                 |\\n                 n-3   n-3 n-3 n-3              |\\n                                                \\n                           |\\n                           |\\n                            k times\\n                            \\n                            \\n                            \\n            left tree      |    right tree\\n               n-k=0              n-k=0\\n                n=k        |      n=k\\n            \\n            \\n            \\n            2^0 + 2^1 + 2^2 + 2^3 + 2^4-------k times\\n                      \\n                     gp series r=2\\n                       a(r^n - 1)/r-1\\n                        \\n         T(n)= 2^n-1 - 1\\n        \\n        \\n        \\n        \\n             answer is ........ o(n)\\n            \\n'"
      ]
     },
     "execution_count": 5,
     "metadata": {},
     "output_type": "execute_result"
    }
   ],
   "source": [
    "# solution 3(a)   T(n) = 2T(n-1) +1\n",
    "'''           \n",
    "                           n         --------1=2^0\n",
    "                          / \\\n",
    "                         /   \\\n",
    "                      n-1     n-1     -------2=2^1\n",
    "                       / \\      /\\\n",
    "                      /   \\    /  \\\n",
    "                    n-2    n-2 n-1 n-2  -----4=2^2\n",
    "                    / \\     /\\\n",
    "                   /   \\   /  \\                 |\n",
    "                 n-3   n-3 n-3 n-3              |\n",
    "                                                \n",
    "                           |\n",
    "                           |\n",
    "                            k times\n",
    "                            \n",
    "                            \n",
    "                            \n",
    "            left tree      |    right tree\n",
    "               n-k=0              n-k=0\n",
    "                n=k        |      n=k\n",
    "            \n",
    "            \n",
    "            \n",
    "            2^0 + 2^1 + 2^2 + 2^3 + 2^4-------k times\n",
    "                      \n",
    "                     gp series r=2\n",
    "                       a(r^n - 1)/r-1\n",
    "                        \n",
    "         T(n)= 2^n-1 - 1\n",
    "        \n",
    "        \n",
    "        \n",
    "        \n",
    "             answer is ........ o(n)\n",
    "            \n",
    "'''"
   ]
  },
  {
   "cell_type": "code",
   "execution_count": 9,
   "id": "744cd452-6f87-4a12-957f-9958b8ad170a",
   "metadata": {},
   "outputs": [
    {
     "data": {
      "text/plain": [
       "'   \\n    \\n                             n                    ------n\\n                           /                            /                            n/2    n/2                ------n\\n                        / \\\\      /                        /   \\\\     \\n                     n/2^2   n/2^2                 ----n\\n                      /  \\\\     /                     /                        n/2^3  n/2^3                   ----n\\n                            \\n                        \\n                        k times\\n                left tree               right tree\\n                \\n                  n/2^k=1                n/2^k\\n                    k=logn               k=logn\\n                    \\n                    \\n                    \\n                   T(n)= n+n+n+n-----k\\n                          k*n\\n                          logn * n\\n                        \\n                        \\n                        \\n                        \\n                        answer is ...... o(nlogn)\\n                    \\n'"
      ]
     },
     "execution_count": 9,
     "metadata": {},
     "output_type": "execute_result"
    }
   ],
   "source": [
    "# solution 3(b)  T(n) = 2T(n/2) + n\n",
    "                         \n",
    "'''   \n",
    "    \n",
    "                             n                    ------n\n",
    "                           /  \\\n",
    "                          /    \\\n",
    "                        n/2    n/2                ------n\n",
    "                        / \\      / \\\n",
    "                       /   \\     \n",
    "                     n/2^2   n/2^2                 ----n\n",
    "                      /  \\     /\\\n",
    "                     /    \\\n",
    "                    n/2^3  n/2^3                   ----n\n",
    "                            \n",
    "                        \n",
    "                        k times\n",
    "                left tree               right tree\n",
    "                \n",
    "                  n/2^k=1                n/2^k\n",
    "                    k=logn               k=logn\n",
    "                    \n",
    "                    \n",
    "                    \n",
    "                   T(n)= n+n+n+n-----k\n",
    "                          k*n\n",
    "                          logn * n\n",
    "                        \n",
    "                        \n",
    "                        \n",
    "                        \n",
    "                        answer is ...... o(nlogn)\n",
    "                    \n",
    "'''                "
   ]
  },
  {
   "cell_type": "code",
   "execution_count": null,
   "id": "3d332ee2-681f-4bbd-bc3d-ee091e968fc5",
   "metadata": {},
   "outputs": [],
   "source": []
  },
  {
   "cell_type": "code",
   "execution_count": null,
   "id": "f772bdd8-3b2a-4286-9387-92fccc5b578b",
   "metadata": {},
   "outputs": [],
   "source": []
  }
 ],
 "metadata": {
  "kernelspec": {
   "display_name": "Python 3 (ipykernel)",
   "language": "python",
   "name": "python3"
  },
  "language_info": {
   "codemirror_mode": {
    "name": "ipython",
    "version": 3
   },
   "file_extension": ".py",
   "mimetype": "text/x-python",
   "name": "python",
   "nbconvert_exporter": "python",
   "pygments_lexer": "ipython3",
   "version": "3.10.8"
  }
 },
 "nbformat": 4,
 "nbformat_minor": 5
}
